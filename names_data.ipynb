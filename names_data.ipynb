{
 "cells": [
  {
   "cell_type": "markdown",
   "metadata": {},
   "source": [
    "# Birth Names Data "
   ]
  },
  {
   "cell_type": "code",
   "execution_count": 25,
   "metadata": {},
   "outputs": [],
   "source": [
    "# Import Dependencies\n",
    "import pandas as pd\n",
    "import glob\n",
    "from sqlalchemy import create_engine\n",
    "import psycopg2\n",
    "import json\n",
    "# from secret import username, password"
   ]
  },
  {
   "cell_type": "code",
   "execution_count": 26,
   "metadata": {},
   "outputs": [],
   "source": [
    "#Import csv files\n",
    "\n",
    "# Use glob module to include all csv files together\n",
    "all_files = glob.glob('Resources/*.csv')\n",
    "\n",
    "# Create and empty list to append to \n",
    "li = []\n",
    "\n",
    "# Write a for loop to import all csv files, include headers\n",
    "for filename in all_files:\n",
    "    df = pd.read_csv(filename, index_col=None, header=None, names = ['State','Sex', 'Year','Name', 'Number'])\n",
    "    li.append(df)\n",
    "    \n",
    "# Concatenate all csv files \n",
    "names_df = pd.concat(li, axis=0, ignore_index=True)"
   ]
  },
  {
   "cell_type": "code",
   "execution_count": 27,
   "metadata": {
    "scrolled": true
   },
   "outputs": [
    {
     "data": {
      "text/html": [
       "<div>\n",
       "<style scoped>\n",
       "    .dataframe tbody tr th:only-of-type {\n",
       "        vertical-align: middle;\n",
       "    }\n",
       "\n",
       "    .dataframe tbody tr th {\n",
       "        vertical-align: top;\n",
       "    }\n",
       "\n",
       "    .dataframe thead th {\n",
       "        text-align: right;\n",
       "    }\n",
       "</style>\n",
       "<table border=\"1\" class=\"dataframe\">\n",
       "  <thead>\n",
       "    <tr style=\"text-align: right;\">\n",
       "      <th></th>\n",
       "      <th>State</th>\n",
       "      <th>Sex</th>\n",
       "      <th>Year</th>\n",
       "      <th>Name</th>\n",
       "      <th>Number</th>\n",
       "    </tr>\n",
       "  </thead>\n",
       "  <tbody>\n",
       "    <tr>\n",
       "      <th>0</th>\n",
       "      <td>AK</td>\n",
       "      <td>F</td>\n",
       "      <td>1910</td>\n",
       "      <td>Mary</td>\n",
       "      <td>14</td>\n",
       "    </tr>\n",
       "    <tr>\n",
       "      <th>1</th>\n",
       "      <td>AK</td>\n",
       "      <td>F</td>\n",
       "      <td>1910</td>\n",
       "      <td>Annie</td>\n",
       "      <td>12</td>\n",
       "    </tr>\n",
       "    <tr>\n",
       "      <th>2</th>\n",
       "      <td>AK</td>\n",
       "      <td>F</td>\n",
       "      <td>1910</td>\n",
       "      <td>Anna</td>\n",
       "      <td>10</td>\n",
       "    </tr>\n",
       "    <tr>\n",
       "      <th>3</th>\n",
       "      <td>AK</td>\n",
       "      <td>F</td>\n",
       "      <td>1910</td>\n",
       "      <td>Margaret</td>\n",
       "      <td>8</td>\n",
       "    </tr>\n",
       "    <tr>\n",
       "      <th>4</th>\n",
       "      <td>AK</td>\n",
       "      <td>F</td>\n",
       "      <td>1910</td>\n",
       "      <td>Helen</td>\n",
       "      <td>7</td>\n",
       "    </tr>\n",
       "    <tr>\n",
       "      <th>...</th>\n",
       "      <td>...</td>\n",
       "      <td>...</td>\n",
       "      <td>...</td>\n",
       "      <td>...</td>\n",
       "      <td>...</td>\n",
       "    </tr>\n",
       "    <tr>\n",
       "      <th>6028146</th>\n",
       "      <td>WY</td>\n",
       "      <td>M</td>\n",
       "      <td>2018</td>\n",
       "      <td>Peyton</td>\n",
       "      <td>5</td>\n",
       "    </tr>\n",
       "    <tr>\n",
       "      <th>6028147</th>\n",
       "      <td>WY</td>\n",
       "      <td>M</td>\n",
       "      <td>2018</td>\n",
       "      <td>Richard</td>\n",
       "      <td>5</td>\n",
       "    </tr>\n",
       "    <tr>\n",
       "      <th>6028148</th>\n",
       "      <td>WY</td>\n",
       "      <td>M</td>\n",
       "      <td>2018</td>\n",
       "      <td>Titus</td>\n",
       "      <td>5</td>\n",
       "    </tr>\n",
       "    <tr>\n",
       "      <th>6028149</th>\n",
       "      <td>WY</td>\n",
       "      <td>M</td>\n",
       "      <td>2018</td>\n",
       "      <td>Tristan</td>\n",
       "      <td>5</td>\n",
       "    </tr>\n",
       "    <tr>\n",
       "      <th>6028150</th>\n",
       "      <td>WY</td>\n",
       "      <td>M</td>\n",
       "      <td>2018</td>\n",
       "      <td>Zander</td>\n",
       "      <td>5</td>\n",
       "    </tr>\n",
       "  </tbody>\n",
       "</table>\n",
       "<p>6028151 rows × 5 columns</p>\n",
       "</div>"
      ],
      "text/plain": [
       "        State Sex  Year      Name  Number\n",
       "0          AK   F  1910      Mary      14\n",
       "1          AK   F  1910     Annie      12\n",
       "2          AK   F  1910      Anna      10\n",
       "3          AK   F  1910  Margaret       8\n",
       "4          AK   F  1910     Helen       7\n",
       "...       ...  ..   ...       ...     ...\n",
       "6028146    WY   M  2018    Peyton       5\n",
       "6028147    WY   M  2018   Richard       5\n",
       "6028148    WY   M  2018     Titus       5\n",
       "6028149    WY   M  2018   Tristan       5\n",
       "6028150    WY   M  2018    Zander       5\n",
       "\n",
       "[6028151 rows x 5 columns]"
      ]
     },
     "execution_count": 27,
     "metadata": {},
     "output_type": "execute_result"
    }
   ],
   "source": [
    "# Check DataFrame\n",
    "# names_df=names_df.loc[names_df[\"year\"]>=2000]\n",
    "names_df"
   ]
  },
  {
   "cell_type": "code",
   "execution_count": 28,
   "metadata": {},
   "outputs": [
    {
     "data": {
      "text/html": [
       "<div>\n",
       "<style scoped>\n",
       "    .dataframe tbody tr th:only-of-type {\n",
       "        vertical-align: middle;\n",
       "    }\n",
       "\n",
       "    .dataframe tbody tr th {\n",
       "        vertical-align: top;\n",
       "    }\n",
       "\n",
       "    .dataframe thead th {\n",
       "        text-align: right;\n",
       "    }\n",
       "</style>\n",
       "<table border=\"1\" class=\"dataframe\">\n",
       "  <thead>\n",
       "    <tr style=\"text-align: right;\">\n",
       "      <th></th>\n",
       "      <th>State</th>\n",
       "      <th>Sex</th>\n",
       "      <th>Year</th>\n",
       "      <th>Name</th>\n",
       "      <th>Number</th>\n",
       "    </tr>\n",
       "  </thead>\n",
       "  <tbody>\n",
       "    <tr>\n",
       "      <th>74692</th>\n",
       "      <td>AL</td>\n",
       "      <td>F</td>\n",
       "      <td>1987</td>\n",
       "      <td>Ashley</td>\n",
       "      <td>1011</td>\n",
       "    </tr>\n",
       "    <tr>\n",
       "      <th>137446</th>\n",
       "      <td>AL</td>\n",
       "      <td>M</td>\n",
       "      <td>1982</td>\n",
       "      <td>Christopher</td>\n",
       "      <td>1077</td>\n",
       "    </tr>\n",
       "    <tr>\n",
       "      <th>137966</th>\n",
       "      <td>AL</td>\n",
       "      <td>M</td>\n",
       "      <td>1983</td>\n",
       "      <td>Christopher</td>\n",
       "      <td>1061</td>\n",
       "    </tr>\n",
       "    <tr>\n",
       "      <th>138471</th>\n",
       "      <td>AL</td>\n",
       "      <td>M</td>\n",
       "      <td>1984</td>\n",
       "      <td>Christopher</td>\n",
       "      <td>1098</td>\n",
       "    </tr>\n",
       "    <tr>\n",
       "      <th>138958</th>\n",
       "      <td>AL</td>\n",
       "      <td>M</td>\n",
       "      <td>1985</td>\n",
       "      <td>Christopher</td>\n",
       "      <td>1104</td>\n",
       "    </tr>\n",
       "    <tr>\n",
       "      <th>...</th>\n",
       "      <td>...</td>\n",
       "      <td>...</td>\n",
       "      <td>...</td>\n",
       "      <td>...</td>\n",
       "      <td>...</td>\n",
       "    </tr>\n",
       "    <tr>\n",
       "      <th>5901045</th>\n",
       "      <td>WI</td>\n",
       "      <td>M</td>\n",
       "      <td>1988</td>\n",
       "      <td>Matthew</td>\n",
       "      <td>1043</td>\n",
       "    </tr>\n",
       "    <tr>\n",
       "      <th>5901046</th>\n",
       "      <td>WI</td>\n",
       "      <td>M</td>\n",
       "      <td>1988</td>\n",
       "      <td>Andrew</td>\n",
       "      <td>1016</td>\n",
       "    </tr>\n",
       "    <tr>\n",
       "      <th>5901558</th>\n",
       "      <td>WI</td>\n",
       "      <td>M</td>\n",
       "      <td>1989</td>\n",
       "      <td>Michael</td>\n",
       "      <td>1149</td>\n",
       "    </tr>\n",
       "    <tr>\n",
       "      <th>5902095</th>\n",
       "      <td>WI</td>\n",
       "      <td>M</td>\n",
       "      <td>1990</td>\n",
       "      <td>Michael</td>\n",
       "      <td>1149</td>\n",
       "    </tr>\n",
       "    <tr>\n",
       "      <th>5902646</th>\n",
       "      <td>WI</td>\n",
       "      <td>M</td>\n",
       "      <td>1991</td>\n",
       "      <td>Michael</td>\n",
       "      <td>1065</td>\n",
       "    </tr>\n",
       "  </tbody>\n",
       "</table>\n",
       "<p>10279 rows × 5 columns</p>\n",
       "</div>"
      ],
      "text/plain": [
       "        State Sex  Year         Name  Number\n",
       "74692      AL   F  1987       Ashley    1011\n",
       "137446     AL   M  1982  Christopher    1077\n",
       "137966     AL   M  1983  Christopher    1061\n",
       "138471     AL   M  1984  Christopher    1098\n",
       "138958     AL   M  1985  Christopher    1104\n",
       "...       ...  ..   ...          ...     ...\n",
       "5901045    WI   M  1988      Matthew    1043\n",
       "5901046    WI   M  1988       Andrew    1016\n",
       "5901558    WI   M  1989      Michael    1149\n",
       "5902095    WI   M  1990      Michael    1149\n",
       "5902646    WI   M  1991      Michael    1065\n",
       "\n",
       "[10279 rows x 5 columns]"
      ]
     },
     "execution_count": 28,
     "metadata": {},
     "output_type": "execute_result"
    }
   ],
   "source": [
    "names_df=names_df.loc[(names_df[\"Year\"]>=1980) & (names_df[\"Number\"]>1000 )]\n",
    "names_df"
   ]
  },
  {
   "cell_type": "code",
   "execution_count": 29,
   "metadata": {},
   "outputs": [
    {
     "name": "stdout",
     "output_type": "stream",
     "text": [
      "<class 'pandas.core.frame.DataFrame'>\n",
      "Int64Index: 10279 entries, 74692 to 5902646\n",
      "Data columns (total 5 columns):\n",
      " #   Column  Non-Null Count  Dtype \n",
      "---  ------  --------------  ----- \n",
      " 0   State   10279 non-null  object\n",
      " 1   Sex     10279 non-null  object\n",
      " 2   Year    10279 non-null  int64 \n",
      " 3   Name    10279 non-null  object\n",
      " 4   Number  10279 non-null  int64 \n",
      "dtypes: int64(2), object(3)\n",
      "memory usage: 481.8+ KB\n"
     ]
    }
   ],
   "source": [
    "# Check info of DataFrame\n",
    "names_df.info()"
   ]
  },
  {
   "cell_type": "code",
   "execution_count": 30,
   "metadata": {},
   "outputs": [],
   "source": [
    "names_df.to_csv('Data/ALL_STATES.csv')"
   ]
  },
  {
   "cell_type": "code",
   "execution_count": 36,
   "metadata": {},
   "outputs": [
    {
     "ename": "AttributeError",
     "evalue": "'str' object has no attribute 'to_json'",
     "output_type": "error",
     "traceback": [
      "\u001b[1;31m---------------------------------------------------------------------------\u001b[0m",
      "\u001b[1;31mAttributeError\u001b[0m                            Traceback (most recent call last)",
      "\u001b[1;32m<ipython-input-36-48a8b083ef89>\u001b[0m in \u001b[0;36m<module>\u001b[1;34m\u001b[0m\n\u001b[0;32m      3\u001b[0m \u001b[0mjson_file\u001b[0m \u001b[1;33m=\u001b[0m \u001b[0mjson\u001b[0m\u001b[1;33m.\u001b[0m\u001b[0mdumps\u001b[0m\u001b[1;33m(\u001b[0m\u001b[0mparsed\u001b[0m\u001b[1;33m,\u001b[0m \u001b[0mindent\u001b[0m\u001b[1;33m=\u001b[0m\u001b[1;36m4\u001b[0m\u001b[1;33m)\u001b[0m\u001b[1;33m\u001b[0m\u001b[1;33m\u001b[0m\u001b[0m\n\u001b[0;32m      4\u001b[0m \u001b[1;33m\u001b[0m\u001b[0m\n\u001b[1;32m----> 5\u001b[1;33m \u001b[0mjson_file\u001b[0m\u001b[1;33m.\u001b[0m\u001b[0mto_json\u001b[0m\u001b[1;33m(\u001b[0m\u001b[0mpath\u001b[0m\u001b[1;33m=\u001b[0m\u001b[1;34m'Data/ALL_STATES.js'\u001b[0m\u001b[1;33m)\u001b[0m\u001b[1;33m\u001b[0m\u001b[1;33m\u001b[0m\u001b[0m\n\u001b[0m",
      "\u001b[1;31mAttributeError\u001b[0m: 'str' object has no attribute 'to_json'"
     ]
    }
   ],
   "source": [
    "result = df.to_json(orient=\"index\")\n",
    "parsed = json.loads(result)\n",
    "json_file = json.dumps(parsed, indent=4)  \n",
    "\n",
    "json_file.to_json(path='Data/ALL_STATES.js')"
   ]
  },
  {
   "cell_type": "code",
   "execution_count": null,
   "metadata": {},
   "outputs": [],
   "source": [
    "# Create database connection\n",
    "connection_string = f'postgres:Koudede$89@localhost:5432/babynames_db'\n",
    "engine = create_engine(f'postgresql+psycopg2://{connection_string}')"
   ]
  },
  {
   "cell_type": "code",
   "execution_count": null,
   "metadata": {},
   "outputs": [],
   "source": [
    "engine.table_names()"
   ]
  },
  {
   "cell_type": "code",
   "execution_count": null,
   "metadata": {},
   "outputs": [],
   "source": [
    "names_df.to_sql(name='baby_names', con=engine, if_exists='append', index=False)"
   ]
  },
  {
   "cell_type": "code",
   "execution_count": null,
   "metadata": {},
   "outputs": [],
   "source": [
    "pd.read_sql_query('select* from baby_names limit(10)', con=engine).head()"
   ]
  },
  {
   "cell_type": "code",
   "execution_count": null,
   "metadata": {},
   "outputs": [],
   "source": []
  }
 ],
 "metadata": {
  "kernelspec": {
   "display_name": "Python [conda env:PythonData]",
   "language": "python",
   "name": "conda-env-PythonData-py"
  },
  "language_info": {
   "codemirror_mode": {
    "name": "ipython",
    "version": 3
   },
   "file_extension": ".py",
   "mimetype": "text/x-python",
   "name": "python",
   "nbconvert_exporter": "python",
   "pygments_lexer": "ipython3",
   "version": "3.8.3"
  }
 },
 "nbformat": 4,
 "nbformat_minor": 4
}
